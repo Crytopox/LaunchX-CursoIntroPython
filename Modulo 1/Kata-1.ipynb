{
 "cells": [
  {
   "cell_type": "markdown",
   "metadata": {},
   "source": [
    "# Kata Modulo 1"
   ]
  },
  {
   "cell_type": "markdown",
   "metadata": {},
   "source": [
    "Fecha"
   ]
  },
  {
   "cell_type": "code",
   "execution_count": 11,
   "metadata": {},
   "outputs": [
    {
     "name": "stdout",
     "output_type": "stream",
     "text": [
      "Today's date is: 2022-02-06\n"
     ]
    }
   ],
   "source": [
    "from datetime import date\n",
    "fech = str(date.today())\n",
    "print(\"Today's date is: \" + fech)"
   ]
  },
  {
   "cell_type": "markdown",
   "metadata": {},
   "source": [
    "Convertir Parsec's -> LY's"
   ]
  },
  {
   "cell_type": "code",
   "execution_count": 19,
   "metadata": {},
   "outputs": [
    {
     "name": "stdout",
     "output_type": "stream",
     "text": [
      "11 Parsec's = 35.88 LY's\n"
     ]
    }
   ],
   "source": [
    "parsec = 11\n",
    "lightyear = parsec * 3.26156\n",
    "\n",
    "print(str(parsec) + \" Parsec's = \" + str(round(lightyear,2)) + \" LY's\")"
   ]
  }
 ],
 "metadata": {
  "interpreter": {
   "hash": "cb22089da31adea390c67337209d999960bd166ecd6735e46af2a0014d7f9c47"
  },
  "kernelspec": {
   "display_name": "Python 3.10.2 64-bit",
   "language": "python",
   "name": "python3"
  },
  "language_info": {
   "codemirror_mode": {
    "name": "ipython",
    "version": 3
   },
   "file_extension": ".py",
   "mimetype": "text/x-python",
   "name": "python",
   "nbconvert_exporter": "python",
   "pygments_lexer": "ipython3",
   "version": "3.10.2"
  },
  "orig_nbformat": 4
 },
 "nbformat": 4,
 "nbformat_minor": 2
}
