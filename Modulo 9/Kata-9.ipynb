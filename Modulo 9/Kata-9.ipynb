{
 "cells": [
  {
   "cell_type": "markdown",
   "metadata": {},
   "source": [
    "## Ejercicio: Uso de funciones en Python\n",
    "### Ejercicio 1: Trabajar con argumentos en funciones\n",
    "Comienza por crear una función que necesite tres lecturas de combustible y devuelva un informe:\n",
    "\n",
    "Función para leer 3 tanques de combustible y muestre el promedio"
   ]
  },
  {
   "cell_type": "code",
   "execution_count": 10,
   "metadata": {},
   "outputs": [],
   "source": [
    "def consumptionReport (firstTank, secondTank, thirdTank):\n",
    "    avgFuelTanks = (firstTank + secondTank + thirdTank) / 3\n",
    "    return(f\"\"\"Fuel Levels:\\nTank 1: {firstTank}%\\nTank 2: {secondTank}%\\nTank 3: {thirdTank}%\\n\\nAverage: {avgFuelTanks}%\n",
    "    \"\"\")"
   ]
  },
  {
   "cell_type": "markdown",
   "metadata": {},
   "source": [
    "Llamamos a la función que genera el reporte print(funcion(tanque1, tanque2, tanque3))"
   ]
  },
  {
   "cell_type": "code",
   "execution_count": 11,
   "metadata": {},
   "outputs": [
    {
     "name": "stdout",
     "output_type": "stream",
     "text": [
      "Fuel Levels:\n",
      "Tank 1: 50%\n",
      "Tank 2: 82%\n",
      "Tank 3: 27%\n",
      "\n",
      "Average: 53.0%\n",
      "    \n"
     ]
    }
   ],
   "source": [
    "print(consumptionReport(50,82,27))"
   ]
  },
  {
   "cell_type": "markdown",
   "metadata": {},
   "source": [
    "En lugar de simplemente crear el informe, la función también está calculando el promedio. Mejora la legibilidad extrayendo el cálculo promedio de la función en una nueva función para que el promedio se pueda hacer de forma independiente:"
   ]
  },
  {
   "cell_type": "code",
   "execution_count": 14,
   "metadata": {},
   "outputs": [
    {
     "name": "stdout",
     "output_type": "stream",
     "text": [
      "Fuel Levels:\n",
      "Tank 1: 50%\n",
      "Tank 2: 82%\n",
      "Tank 3: 27%\n",
      "\n",
      "Average: 53.0%\n",
      "    \n"
     ]
    }
   ],
   "source": [
    "def avgFuel (fuel):\n",
    "    totalFuel = sum(fuel)\n",
    "    fuelTanks = len(fuel)\n",
    "    return(totalFuel / fuelTanks)\n",
    "\n",
    "\n",
    "def consumptionReport (firstTank, secondTank, thirdTank):\n",
    "    return(f\"\"\"Fuel Levels:\\nTank 1: {firstTank}%\\nTank 2: {secondTank}%\\nTank 3: {thirdTank}%\\n\\nAverage: {avgFuel([firstTank, secondTank, thirdTank])}%\n",
    "    \"\"\")\n",
    "\n",
    "print(consumptionReport(50,82,27))"
   ]
  },
  {
   "cell_type": "markdown",
   "metadata": {},
   "source": [
    "## Ejercicio 2: Trabajo con argumentos de palabra clave\n",
    "### Ejercicio : Trabajar con argumentos de palabras clave en funciones\n",
    "Función con un informe preciso de la misión. Considera hora de prelanzamiento, tiempo de vuelo, destino, tanque externo y tanque interno"
   ]
  },
  {
   "cell_type": "code",
   "execution_count": 17,
   "metadata": {},
   "outputs": [
    {
     "name": "stdout",
     "output_type": "stream",
     "text": [
      "Mission Report\n",
      "    Pre Launch Time: \t10\n",
      "    Flight Time: \t77\n",
      "    Destination: \tMars\n",
      "    Total Time: \t87\n",
      "    Fuel: \t\t420000\n"
     ]
    }
   ],
   "source": [
    "def missionReport (preLaunchTime, flightTime, destination, externalTank, internalTank):\n",
    "    return(f\"\"\"Mission Report\n",
    "    Pre Launch Time: \\t{preLaunchTime}\n",
    "    Flight Time: \\t{flightTime}\n",
    "    Destination: \\t{destination}\n",
    "    Total Time: \\t{flightTime + preLaunchTime}\n",
    "    Fuel: \\t\\t{externalTank + internalTank}\"\"\")\n",
    "\n",
    "print(missionReport(10, 77, \"Mars\", 180000, 240000))"
   ]
  },
  {
   "cell_type": "markdown",
   "metadata": {},
   "source": [
    "La función es problemática porque no se puede adaptar para minutos adicionales o tanques adicionales de combustible. Hazlo más flexible permitiendo cualquier número de pasos basados en el tiempo y cualquier número de tanques. En lugar de usar *args y **kwargs, aprovecha el hecho de que puedes usar cualquier nombre que desees"
   ]
  },
  {
   "cell_type": "code",
   "execution_count": 19,
   "metadata": {},
   "outputs": [
    {
     "name": "stdout",
     "output_type": "stream",
     "text": [
      "Mission Report\n",
      "    Destination: \tMars\n",
      "    Total Time: \t87\n",
      "    Fuel: \t\t420000\n"
     ]
    }
   ],
   "source": [
    "def missionReport(destination, *flightTime, **fuelTanks):\n",
    "    return(f\"\"\"Mission Report\n",
    "    Destination: \\t{destination}\n",
    "    Total Time: \\t{sum(flightTime)}\n",
    "    Fuel: \\t\\t{sum(fuelTanks.values())}\"\"\")\n",
    "\n",
    "print(missionReport(\"Mars\", 10, 77, externalTank=180000, internalTank=240000))"
   ]
  },
  {
   "cell_type": "markdown",
   "metadata": {},
   "source": [
    "Debido a que el combustible que queda en los tanques es específico de cada tanque, actualiza la función para usar el nombre de cada tanque en el informe:"
   ]
  },
  {
   "cell_type": "code",
   "execution_count": 33,
   "metadata": {},
   "outputs": [
    {
     "name": "stdout",
     "output_type": "stream",
     "text": [
      "Mission Report\n",
      "    Destination: \tMars\n",
      "    Total Time: \t87\n",
      "    Fuel: \t\t420000\n",
      "\tExternal tank: \t180000\n",
      "\tInternal tank: \t240000\n",
      "\n"
     ]
    }
   ],
   "source": [
    "def missionReport(destination, *flightTime, **fuelTanks):\n",
    "    report = (f\"\"\"Mission Report\n",
    "    Destination: \\t{destination}\n",
    "    Total Time: \\t{sum(flightTime)}\n",
    "    Fuel: \\t\\t{sum(fuelTanks.values())}\\n\"\"\")\n",
    "\n",
    "    for tank, fuel in fuelTanks.items():\n",
    "        report += f\"\\t{tank.title()} tank: \\t{fuel}\\n\"\n",
    "\n",
    "    return(report)\n",
    "\n",
    "print(missionReport(\"Mars\", 10, 77, external=180000, internal=240000))"
   ]
  }
 ],
 "metadata": {
  "interpreter": {
   "hash": "cb22089da31adea390c67337209d999960bd166ecd6735e46af2a0014d7f9c47"
  },
  "kernelspec": {
   "display_name": "Python 3.10.2 64-bit",
   "language": "python",
   "name": "python3"
  },
  "language_info": {
   "codemirror_mode": {
    "name": "ipython",
    "version": 3
   },
   "file_extension": ".py",
   "mimetype": "text/x-python",
   "name": "python",
   "nbconvert_exporter": "python",
   "pygments_lexer": "ipython3",
   "version": "3.10.2"
  },
  "orig_nbformat": 4
 },
 "nbformat": 4,
 "nbformat_minor": 2
}
