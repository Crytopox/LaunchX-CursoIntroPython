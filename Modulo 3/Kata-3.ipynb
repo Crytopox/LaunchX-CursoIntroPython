{
 "cells": [
  {
   "cell_type": "markdown",
   "metadata": {},
   "source": [
    "# Kata 3\n",
    "Añadir el código necesario para crear una variable que guarde la velocidad del asteroide.<br/>\n",
    "Escribe una expresión de prueba para calcular si necesita una advertencia.<br/>\n",
    "Agregue las instrucciones que se ejecutarán si la expresión de prueba es true o false.<br/>"
   ]
  },
  {
   "cell_type": "code",
   "execution_count": 3,
   "metadata": {},
   "outputs": [
    {
     "name": "stdout",
     "output_type": "stream",
     "text": [
      "Hay una asteroide acercandose a velocidades peligrosas!\n"
     ]
    }
   ],
   "source": [
    "astVel = 49.0 # km/s\n",
    "\n",
    "if(astVel > 25):\n",
    "    print(\"Hay una asteroide acercandose a velocidades peligrosas!\")\n",
    "else:\n",
    "    print(\"No pasa nada, tranquilos\")"
   ]
  },
  {
   "cell_type": "markdown",
   "metadata": {},
   "source": [
    "Agrega el código para crear una variable para un asteroide que viaja a 19 km/s <br/>\n",
    "Escribe varias expresiones de prueba para determinar si puedes ver el rayo de luz desde la tierra<br/>\n",
    "Agrega las instrucciones que se ejecutarán si las expresiones de prueba son True o False<br/>"
   ]
  },
  {
   "cell_type": "code",
   "execution_count": 7,
   "metadata": {},
   "outputs": [
    {
     "name": "stdout",
     "output_type": "stream",
     "text": [
      "No hay nada que ver\n"
     ]
    }
   ],
   "source": [
    "astVel = 19.9 #km/s\n",
    "\n",
    "#Velocidad es Mayor o Igual a 20.0 km/s\n",
    "if(astVel >= 20.0):\n",
    "    print(\"El asteroide se puede ver en el cielo\")\n",
    "else:\n",
    "    print(\"No hay nada que ver\")"
   ]
  },
  {
   "cell_type": "markdown",
   "metadata": {},
   "source": [
    "Agrega el código para crear nuevas variables para la velocidad y el tamaño del asteroide<br/>\n",
    "Para probar el código, prueba con varias velocidades y tamaños.<br/>\n",
    "Escribe varias expresiones de prueba o combinaciones de expresiones de prueba para determinar qué mensaje se debe enviar a Tierra.<br/>"
   ]
  },
  {
   "cell_type": "code",
   "execution_count": 22,
   "metadata": {},
   "outputs": [
    {
     "name": "stdout",
     "output_type": "stream",
     "text": [
      "Un asteroide peligroso de Masa y Velocidad se acerca a la Tierra!\n"
     ]
    }
   ],
   "source": [
    "astVel = 33.0\n",
    "astMass = 40\n",
    "\n",
    "#El tamaño del asteroide esta entre 25kg y 1,000kg o tiene una velocidad Mayor a 25.0 km/s.\n",
    "if((astMass > 25 and astMass < 1000) or astVel > 25.0):\n",
    "    #Si los dos casos se cumplen, es peligroso en Masa y Velocidad.\n",
    "    if((astMass > 25 and astMass < 1000) and astVel > 25.0):\n",
    "        print(\"Un asteroide peligroso de Masa y Velocidad se acerca a la Tierra!\")\n",
    "    #Solo es peligroso en Masa.\n",
    "    elif(astMass > 25 and astMass < 1000):\n",
    "        print(\"Un asteroide peligroso de Masa se acerca a la Tierra!\")\n",
    "    #Solo es peligroso en Velocidad.\n",
    "    else:\n",
    "        print(\"Un asteroide peligroso de Velocidad se acerca a la Tierra!\")\n",
    "#No es peligroso en Masa o Velocidad y se puede ver en el cielo.\n",
    "elif(astVel >=20.0):\n",
    "    print(\"El asteroide se puede ver en el cielo\")\n",
    "#No es peligroso, no se puede ver.\n",
    "else:\n",
    "    print(\"Nada que ver.\")"
   ]
  }
 ],
 "metadata": {
  "interpreter": {
   "hash": "cb22089da31adea390c67337209d999960bd166ecd6735e46af2a0014d7f9c47"
  },
  "kernelspec": {
   "display_name": "Python 3.10.2 64-bit",
   "language": "python",
   "name": "python3"
  },
  "language_info": {
   "codemirror_mode": {
    "name": "ipython",
    "version": 3
   },
   "file_extension": ".py",
   "mimetype": "text/x-python",
   "name": "python",
   "nbconvert_exporter": "python",
   "pygments_lexer": "ipython3",
   "version": "3.10.2"
  },
  "orig_nbformat": 4
 },
 "nbformat": 4,
 "nbformat_minor": 2
}
